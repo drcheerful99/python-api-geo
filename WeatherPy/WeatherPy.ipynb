{
 "cells": [
  {
   "cell_type": "markdown",
   "metadata": {},
   "source": [
    "# WeatherPy\n",
    "----\n",
    "\n",
    "#### Note\n",
    "* Instructions have been included for each segment. You do not have to follow them exactly, but they are included to help you think through the steps."
   ]
  },
  {
   "cell_type": "code",
   "execution_count": null,
   "metadata": {
    "scrolled": true
   },
   "outputs": [],
   "source": [
    "# Dependencies and Setup\n",
    "import matplotlib.pyplot as plt\n",
    "import pandas as pd\n",
    "import numpy as np\n",
    "import requests\n",
    "import time\n",
    "from scipy.stats import linregress\n",
    "from requests.exceptions import MissingSchema\n",
    "import json\n",
    "\n",
    "# Import API key\n",
    "from api_keys import weather_api_key\n",
    "\n",
    "# Incorporated citipy to determine city based on latitude and longitude\n",
    "# need to install citipy [pip install citipy via terminal]\n",
    "from citipy import citipy\n",
    "\n",
    "# Output File (CSV)\n",
    "output_data_file = \"output_data/cities.csv\"\n",
    "\n",
    "# Range of latitudes and longitudes\n",
    "lat_range = (-90, 90)\n",
    "lng_range = (-180, 180)"
   ]
  },
  {
   "cell_type": "markdown",
   "metadata": {},
   "source": [
    "## Generate Cities List"
   ]
  },
  {
   "cell_type": "code",
   "execution_count": null,
   "metadata": {},
   "outputs": [],
   "source": [
    "# List for holding lat_lngs and cities\n",
    "lat_lngs = []\n",
    "cities = []\n",
    "\n",
    "# Create a set of random lat and lng combinations\n",
    "lats = np.random.uniform(lat_range[0], lat_range[1], size=1500)\n",
    "lngs = np.random.uniform(lng_range[0], lng_range[1], size=1500)\n",
    "lat_lngs = zip(lats, lngs)\n",
    "\n",
    "# Identify nearest city for each lat, lng combination\n",
    "for lat_lng in lat_lngs:\n",
    "    city = citipy.nearest_city(lat_lng[0], lat_lng[1]).city_name\n",
    "    \n",
    "    # If the city is unique, then add it to a our cities list\n",
    "    if city not in cities:\n",
    "        cities.append(city)\n",
    "\n",
    "# Print the city count to confirm sufficient count\n",
    "len(cities)\n",
    "# cities"
   ]
  },
  {
   "cell_type": "markdown",
   "metadata": {},
   "source": [
    "### Perform API Calls\n",
    "* Perform a weather check on each city using a series of successive API calls.\n",
    "* Include a print log of each city as it'sbeing processed (with the city number and city name).\n"
   ]
  },
  {
   "cell_type": "code",
   "execution_count": null,
   "metadata": {
    "scrolled": true
   },
   "outputs": [],
   "source": [
    "# base url:\n",
    "units = 'imperial'\n",
    "base_url = f\"api.openweathermap.org/data/2.5/weather?appid={weather_api_key}&units={units}&q=\"\n",
    "\n",
    "# query_url = f\"base_url {city} &appid= {weather_api_key}\"\n",
    "\n",
    "# create lists for dataFrame\n",
    "city_name = []\n",
    "city_lat = []\n",
    "city_lang = []\n",
    "city_cloud = []\n",
    "city_temp = []\n",
    "city_maxtemp = []\n",
    "city_humidity = []\n",
    "city_wind_speed = []\n",
    "city_country = []\n",
    "date = []\n",
    "# set couter for city and set\n",
    "item = 1\n",
    "batch = 1\n",
    "\n",
    "# begin to display data\n",
    "print('Beginning data retrival...')\n",
    "# loop thourgh list of citys to request data for each city\n",
    "for city in cities:\n",
    "    query_url = base_url + city\n",
    "    response = requests.get(query_url).json()\n",
    "    try:\n",
    "        print(f\"Processing record {item} of set {batch} | {city}\")\n",
    "        city_name.append(response['name'])\n",
    "        city_lat.append(response['coord']['lat'])\n",
    "        city_lang.append(response['coord']['lon'])\n",
    "        city_cloud.append(response['clouds']['all'])\n",
    "        city_temp.append(response['main']['temp'])\n",
    "        city_maxtemp.append(response['main']['temp_max'])\n",
    "        city_humidity.append(response['main']['humidity'])\n",
    "        city_wind_speed.append(response['wind']['speed'])\n",
    "        date.append(response['dt'])\n",
    "        \n",
    "        item += 1\n",
    "        # limit # of api calls\n",
    "        if item > 50:\n",
    "              batch += 1\n",
    "              # reset item\n",
    "              item = 1\n",
    "              time.sleep(2)\n",
    "    except:\n",
    "        print(f\"City {city} not found. Skipping...\")\n"
   ]
  },
  {
   "cell_type": "markdown",
   "metadata": {},
   "source": [
    "### Convert Raw Data to DataFrame\n",
    "* Export the city data into a .csv.\n",
    "* Display the DataFrame"
   ]
  },
  {
   "cell_type": "code",
   "execution_count": null,
   "metadata": {},
   "outputs": [],
   "source": [
    "# create df from retriaved data\n",
    "city_df = pd.DataFrame({'City':city_name,\n",
    "                        'Country':city_country,\n",
    "                        'Date':date,\n",
    "                        'Latitude':city_lats,\n",
    "                        'Longitude':city_lngs,\n",
    "                        'Cloudiness':city_clouds,\n",
    "                        'Max Temp (f)':city_maxtemp,\n",
    "                        'Humidity (%)':city_humidity,\n",
    "                        'Wind speed (mph)':city_wind_speed\n",
    "                        })\n",
    "city_df\n",
    "# convert times using pd.to_datetime\n"
   ]
  },
  {
   "cell_type": "code",
   "execution_count": null,
   "metadata": {},
   "outputs": [],
   "source": []
  },
  {
   "cell_type": "markdown",
   "metadata": {},
   "source": [
    "## Inspect the data and remove the cities where the humidity > 100%.\n",
    "----\n",
    "Skip this step if there are no cities that have humidity > 100%. "
   ]
  },
  {
   "cell_type": "code",
   "execution_count": null,
   "metadata": {},
   "outputs": [],
   "source": []
  },
  {
   "cell_type": "code",
   "execution_count": null,
   "metadata": {},
   "outputs": [],
   "source": [
    "#  Get the indices of cities that have humidity over 100%.\n"
   ]
  },
  {
   "cell_type": "code",
   "execution_count": null,
   "metadata": {},
   "outputs": [],
   "source": [
    "# Make a new DataFrame equal to the city data to drop all humidity outliers by index.\n",
    "# Passing \"inplace=False\" will make a copy of the city_data DataFrame, which we call \"clean_city_data\".\n"
   ]
  },
  {
   "cell_type": "code",
   "execution_count": null,
   "metadata": {},
   "outputs": [],
   "source": [
    "\n"
   ]
  },
  {
   "cell_type": "markdown",
   "metadata": {},
   "source": [
    "## Plotting the Data\n",
    "* Use proper labeling of the plots using plot titles (including date of analysis) and axes labels.\n",
    "* Save the plotted figures as .pngs."
   ]
  },
  {
   "cell_type": "markdown",
   "metadata": {},
   "source": [
    "## Latitude vs. Temperature Plot"
   ]
  },
  {
   "cell_type": "code",
   "execution_count": null,
   "metadata": {
    "scrolled": true
   },
   "outputs": [],
   "source": [
    "# create lat vs temp scatter plot\n",
    "plt.scatter(city_df['Lat'],city_df['Max Temp'], facecolor = 'blue', edgecolor = 'black')\n",
    "# set title and labels:\n",
    "today = date.today()\n",
    "plt.title('Citi Latitude vs. max temperature {today}')\n",
    "plt.xlabel('Latitude')\n",
    "plt.ylabel('Max Temp (F)')\n",
    "plt.grid(linestyle='-', linewidth=1, alpha = 0.75)\n",
    "# export fig \n",
    "plt.savfig('../output_data/city_lat_vs_temp.jpg')"
   ]
  },
  {
   "cell_type": "markdown",
   "metadata": {},
   "source": [
    "## Latitude vs. Humidity Plot"
   ]
  },
  {
   "cell_type": "code",
   "execution_count": null,
   "metadata": {},
   "outputs": [],
   "source": [
    "# create lat vs humidity scatter plot\n",
    "plt.scatter(city_df['Lat'],city_df['Humidity'], facecolor = 'blue', edgecolor = 'black')\n",
    "# set title and labels:\n",
    "today = date.today()\n",
    "plt.title('Citi Latitude vs. Humidity {today}')\n",
    "plt.xlabel('Latitude')\n",
    "plt.ylabel('Humidity (%)')\n",
    "plt.grid(linestyle='-', linewidth=1, alpha = 0.75)\n",
    "# export fig \n",
    "plt.savfig('../output_data/city_lat_vs_Humidity.jpg')"
   ]
  },
  {
   "cell_type": "markdown",
   "metadata": {},
   "source": [
    "## Latitude vs. Cloudiness Plot"
   ]
  },
  {
   "cell_type": "code",
   "execution_count": null,
   "metadata": {},
   "outputs": [],
   "source": [
    "# create lat vs humidity scatter plot\n",
    "plt.scatter(city_df['Lat'],city_df['cloudiness'], facecolor = 'blue', edgecolor = 'black')\n",
    "# set title and labels:\n",
    "today = date.today()\n",
    "plt.title('Citi Latitude vs. cloudiness {today}')\n",
    "plt.xlabel('Latitude')\n",
    "plt.ylabel('cloudiness (%)')\n",
    "plt.grid(linestyle='-', linewidth=1, alpha = 0.75)\n",
    "# export fig \n",
    "plt.savfig('../output_data/city_lat_vs_cloudiness.jpg')"
   ]
  },
  {
   "cell_type": "markdown",
   "metadata": {},
   "source": [
    "## Latitude vs. Wind Speed Plot"
   ]
  },
  {
   "cell_type": "code",
   "execution_count": null,
   "metadata": {},
   "outputs": [],
   "source": [
    "# create lat vs humidity scatter plot\n",
    "plt.scatter(city_df['Lat'],city_df['Wind Speed'], facecolor = 'blue', edgecolor = 'black')\n",
    "# set title and labels:\n",
    "today = date.today()\n",
    "plt.title('Citi Latitude vs. wind speed (mph) {today}')\n",
    "plt.xlabel('Latitude')\n",
    "plt.ylabel('wind speed (mph)')\n",
    "plt.grid(linestyle='-', linewidth=1, alpha = 0.75)\n",
    "# export fig \n",
    "plt.savfig('../output_data/city_lat_vs_wind.jpg')"
   ]
  },
  {
   "cell_type": "markdown",
   "metadata": {},
   "source": [
    "## Linear Regression"
   ]
  },
  {
   "cell_type": "code",
   "execution_count": null,
   "metadata": {},
   "outputs": [],
   "source": [
    "# create northern and southern hemisphere df\n",
    "x_values = city_df.loc[city_df['Lat'] >= 0, 'Lat']\n",
    "y_values = city_df.loc[city_df['Lat'] < 0, 'Max Temp']"
   ]
  },
  {
   "cell_type": "markdown",
   "metadata": {},
   "source": [
    "####  Northern Hemisphere - Max Temp vs. Latitude Linear Regression"
   ]
  },
  {
   "cell_type": "code",
   "execution_count": null,
   "metadata": {},
   "outputs": [],
   "source": [
    "# calc line_eq for northern hemisphere max temp vs lat\n",
    "(slope, intercept, rvalue, pvalue, stderr) = linregress(x_values, y_values)\n",
    "regress_values = x_values * slope + intercept\n",
    "line_eq = f\"y = {str(round(slope, 2))} x + {str(round(intercept,2))}\"\n",
    "# plot chart\n",
    "plt.scatter(x_values, y_values)\n",
    "plt.plot(x_values, regress_values, color='red')\n",
    "plt.annotate(line_eq, (0,-20), color='red')\n",
    "# set title and lables\n",
    "plt.title(f\"Norther Hemisphere: City Latitude vs Max Temp {today}\")\n",
    "plt.xlabel('Latitude')\n",
    "plt.ylabel('Max Temp (f)')\n",
    "plt.show()\n",
    "print(f\"The r-value is {rvalue}\")\n"
   ]
  },
  {
   "cell_type": "markdown",
   "metadata": {},
   "source": [
    "####  Southern Hemisphere - Max Temp vs. Latitude Linear Regression"
   ]
  },
  {
   "cell_type": "code",
   "execution_count": null,
   "metadata": {},
   "outputs": [],
   "source": [
    "# calc line_eq for souther hemisphere max temp vs lat\n",
    "x_values_s = city_df.loc[city_df['Lat'] >= 0, 'Lat']\n",
    "y_values_s = city_df.loc[city_df['Lat'] < 0, 'Max Temp']\n",
    "(slope, intercept, rvalue, pvalue, stderr) = linregress(x_values_s, y_values_s)\n",
    "regress_values_s = x_values * slope + intercept\n",
    "line_eq_s = f\"y = {str(round(slope, 2))} x + {str(round(intercept,2))}\"\n",
    "# plot chart\n",
    "plt.scatter(x_values_s, y_values_s)\n",
    "plt.plot(x_values, regress_values, color='red')\n",
    "plt.annotate(line_eq_s, (0,-20), color='red')\n",
    "# set title and lables\n",
    "plt.title(f\"Southern Hemisphere: City Latitude vs Max Temp {today}\")\n",
    "plt.xlabel('Latitude')\n",
    "plt.ylabel('Max Temp (f)')\n",
    "plt.show()\n",
    "print(f\"The r-value is {rvalue}\")\n"
   ]
  },
  {
   "cell_type": "markdown",
   "metadata": {},
   "source": [
    "####  Northern Hemisphere - Humidity (%) vs. Latitude Linear Regression"
   ]
  },
  {
   "cell_type": "code",
   "execution_count": null,
   "metadata": {},
   "outputs": [],
   "source": [
    "# calc line_eq for norther hemisphere; humidity vs latitude -- hn = huminidy northern\n",
    "x_values_hn = city_df.loc[city_df['Lat'] >= 0, 'Lat']\n",
    "y_values_hn = city_df.loc[city_df['Lat'] < 0, 'Humidity']\n",
    "(slope, intercept, rvalue, pvalue, stderr) = linregress(x_values_hn, y_values_hn)\n",
    "regress_values_hn = x_values * slope + intercept\n",
    "line_eq_hn = f\"y = {str(round(slope, 2))} x + {str(round(intercept,2))}\"\n",
    "# plot chart\n",
    "plt.scatter(x_values_hn, y_values_hn)\n",
    "plt.plot(x_values, regress_values_hn, color='red')\n",
    "plt.annotate(line_eq_hn, (0,-20), color='red')\n",
    "# set title and lables\n",
    "plt.title(f\"Nother Hemisphere: City Latitude vs Humidity {today}\")\n",
    "plt.xlabel('Latitude')\n",
    "plt.ylabel('Humidity (%)')\n",
    "plt.show()\n",
    "print(f\"The r-value is {rvalue}\")\n"
   ]
  },
  {
   "cell_type": "markdown",
   "metadata": {},
   "source": [
    "####  Southern Hemisphere - Humidity (%) vs. Latitude Linear Regression"
   ]
  },
  {
   "cell_type": "code",
   "execution_count": null,
   "metadata": {},
   "outputs": [],
   "source": [
    "# calc line_eq for souther hemisphere; humidity vs latitude -- hs = huminidy southern hemisphere\n",
    "x_values_hs = city_df.loc[city_df['Lat'] >= 0, 'Lat']\n",
    "y_values_hs = city_df.loc[city_df['Lat'] < 0, 'Humidity']\n",
    "(slope, intercept, rvalue, pvalue, stderr) = linregress(x_values_hs, y_values_hs)\n",
    "regress_values_hs = x_values * slope + intercept\n",
    "line_eq_hn = f\"y = {str(round(slope, 2))} x + {str(round(intercept,2))}\"\n",
    "# plot chart\n",
    "plt.scatter(x_values_hs, y_values_hs)\n",
    "plt.plot(x_values_hs, regress_values_hs, color='red')\n",
    "plt.annotate(line_eq_hs, (0,-20), color='red')\n",
    "# set title and lables\n",
    "plt.title(f\"Nother Hemisphere: City Latitude vs Humidity {today}\")\n",
    "plt.xlabel('Latitude')\n",
    "plt.ylabel('Humidity (%)')\n",
    "plt.show()\n",
    "print(f\"The r-value is {rvalue}\")"
   ]
  },
  {
   "cell_type": "markdown",
   "metadata": {},
   "source": [
    "####  Northern Hemisphere - Cloudiness (%) vs. Latitude Linear Regression"
   ]
  },
  {
   "cell_type": "code",
   "execution_count": null,
   "metadata": {},
   "outputs": [],
   "source": [
    "# calc line_eq for norther hemisphere; cloudiness vs latitude -- cn = cloudiness northern\n",
    "x_values_cn = city_df.loc[city_df['Lat'] >= 0, 'Lat']\n",
    "y_values_cn = city_df.loc[city_df['Lat'] < 0, 'Cloudiness']\n",
    "(slope, intercept, rvalue, pvalue, stderr) = linregress(x_values_cn, y_values_cn)\n",
    "regress_values_cn = x_values * slope + intercept\n",
    "line_eq_cn = f\"y = {str(round(slope, 2))} x + {str(round(intercept,2))}\"\n",
    "# plot chart\n",
    "plt.scatter(x_values_cn, y_values_cn)\n",
    "plt.plot(x_values, regress_values_cn, color='red')\n",
    "plt.annotate(line_eq_cn, (0,-20), color='red')\n",
    "# set title and lables\n",
    "plt.title(f\"Nother Hemisphere: City Latitude vs Cloudiness {today}\")\n",
    "plt.xlabel('Latitude')\n",
    "plt.ylabel('Cloudiness (%)')\n",
    "plt.show()\n",
    "print(f\"The r-value is {rvalue}\")"
   ]
  },
  {
   "cell_type": "markdown",
   "metadata": {},
   "source": [
    "####  Southern Hemisphere - Cloudiness (%) vs. Latitude Linear Regression"
   ]
  },
  {
   "cell_type": "code",
   "execution_count": null,
   "metadata": {},
   "outputs": [],
   "source": [
    "# calc line_eq for norther hemisphere; cloudiness vs latitude -- cs = cloudiness southern\n",
    "x_values_cs = city_df.loc[city_df['Lat'] >= 0, 'Lat']\n",
    "y_values_cs = city_df.loc[city_df['Lat'] < 0, 'Cloudiness']\n",
    "(slope, intercept, rvalue, pvalue, stderr) = linregress(x_values_cs, y_values_cs)\n",
    "regress_values_cs = x_values * slope + intercept\n",
    "line_eq_cs = f\"y = {str(round(slope, 2))} x + {str(round(intercept,2))}\"\n",
    "# plot chart\n",
    "plt.scatter(x_values_cs, y_values_cs)\n",
    "plt.plot(x_values, regress_values_cs, color='red')\n",
    "plt.annotate(line_eq_cs, (0,-20), color='red')\n",
    "# set title and lables\n",
    "plt.title(f\"Nother Hemisphere: City Latitude vs Cloudiness {today}\")\n",
    "plt.xlabel('Latitude')\n",
    "plt.ylabel('Cloudiness (%)')\n",
    "plt.show()\n",
    "print(f\"The r-value is {rvalue}\")"
   ]
  },
  {
   "cell_type": "markdown",
   "metadata": {},
   "source": [
    "####  Northern Hemisphere - Wind Speed (mph) vs. Latitude Linear Regression"
   ]
  },
  {
   "cell_type": "code",
   "execution_count": null,
   "metadata": {},
   "outputs": [],
   "source": [
    "# calc line_eq for norther hemisphere; wind speed vs latitude -- wn = wind speed  northern\n",
    "x_values_wn = city_df.loc[city_df['Lat'] >= 0, 'Lat']\n",
    "y_values_wn = city_df.loc[city_df['Lat'] < 0, 'Cloudiness']\n",
    "(slope, intercept, rvalue, pvalue, stderr) = linregress(x_values_wn, y_values_wn)\n",
    "regress_values_wn = x_values * slope + intercept\n",
    "line_eq_wn = f\"y = {str(round(slope, 2))} x + {str(round(intercept,2))}\"\n",
    "# plot chart\n",
    "plt.scatter(x_values_wn, y_values_wn)\n",
    "plt.plot(x_values, regress_values_wn, color='red')\n",
    "plt.annotate(line_eq_wn, (0,-20), color='red')\n",
    "# set title and lables\n",
    "plt.title(f\"Nother Hemisphere: City Latitude vs Wind speed {today}\")\n",
    "plt.xlabel('Latitude')\n",
    "plt.ylabel('Wind speed (mph)')\n",
    "plt.show()\n",
    "print(f\"The r-value is {rvalue}\")"
   ]
  },
  {
   "cell_type": "markdown",
   "metadata": {},
   "source": [
    "####  Southern Hemisphere - Wind Speed (mph) vs. Latitude Linear Regression"
   ]
  },
  {
   "cell_type": "code",
   "execution_count": null,
   "metadata": {},
   "outputs": [],
   "source": [
    "# calc line_eq for norther hemisphere; wind speed vs latitude -- ws = wind speed  southern\n",
    "x_values_ws = city_df.loc[city_df['Lat'] >= 0, 'Lat']\n",
    "y_values_ws = city_df.loc[city_df['Lat'] < 0, 'Cloudiness']\n",
    "(slope, intercept, rvalue, pvalue, stderr) = linregress(x_values_ws, y_values_ws)\n",
    "regress_values_ws = x_values * slope + intercept\n",
    "line_eq_ws = f\"y = {str(round(slope, 2))} x + {str(round(intercept,2))}\"\n",
    "# plot chart\n",
    "plt.scatter(x_values_ws, y_values_ws)\n",
    "plt.plot(x_values, regress_values_ws, color='red')\n",
    "plt.annotate(line_eq_ws, (0,-20), color='red')\n",
    "# set title and lables\n",
    "plt.title(f\"Nother Hemisphere: City Latitude vs Wind speed {today}\")\n",
    "plt.xlabel('Latitude')\n",
    "plt.ylabel('Wind speed (mph)')\n",
    "plt.show()\n",
    "print(f\"The r-value is {rvalue}\")"
   ]
  }
 ],
 "metadata": {
  "anaconda-cloud": {},
  "kernel_info": {
   "name": "python3"
  },
  "kernelspec": {
   "display_name": "Python 3",
   "language": "python",
   "name": "python3"
  },
  "language_info": {
   "codemirror_mode": {
    "name": "ipython",
    "version": 3
   },
   "file_extension": ".py",
   "mimetype": "text/x-python",
   "name": "python",
   "nbconvert_exporter": "python",
   "pygments_lexer": "ipython3",
   "version": "3.8.3"
  },
  "latex_envs": {
   "LaTeX_envs_menu_present": true,
   "autoclose": false,
   "autocomplete": true,
   "bibliofile": "biblio.bib",
   "cite_by": "apalike",
   "current_citInitial": 1,
   "eqLabelWithNumbers": true,
   "eqNumInitial": 1,
   "hotkeys": {
    "equation": "Ctrl-E",
    "itemize": "Ctrl-I"
   },
   "labels_anchors": false,
   "latex_user_defs": false,
   "report_style_numbering": false,
   "user_envs_cfg": false
  },
  "nteract": {
   "version": "0.12.3"
  }
 },
 "nbformat": 4,
 "nbformat_minor": 2
}
